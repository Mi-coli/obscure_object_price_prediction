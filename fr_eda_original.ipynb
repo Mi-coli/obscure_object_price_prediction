{
 "cells": [
  {
   "cell_type": "markdown",
   "id": "4d26ed9f",
   "metadata": {},
   "source": [
    "## This is Exploratory Data Analysis and Model Selection for the Price Prediction Project"
   ]
  },
  {
   "cell_type": "code",
   "execution_count": 58,
   "id": "ee74fcb1",
   "metadata": {},
   "outputs": [],
   "source": [
    "import json\n",
    "\n",
    "import pandas as pd\n",
    "import seaborn as sns\n",
    "import matplotlib.pyplot as plt\n",
    "import numpy as np\n",
    "\n",
    "from sklearn.model_selection import train_test_split\n",
    "from sklearn.tree import DecisionTreeRegressor\n",
    "from sklearn import metrics\n",
    "from sklearn.preprocessing import LabelEncoder\n",
    "\n",
    "#Libraries for multiple regression which I will use for model comparison\n",
    "from sklearn import linear_model"
   ]
  },
  {
   "cell_type": "code",
   "execution_count": 59,
   "id": "5777e077",
   "metadata": {
    "scrolled": true
   },
   "outputs": [
    {
     "data": {
      "text/html": [
       "<div>\n",
       "<style scoped>\n",
       "    .dataframe tbody tr th:only-of-type {\n",
       "        vertical-align: middle;\n",
       "    }\n",
       "\n",
       "    .dataframe tbody tr th {\n",
       "        vertical-align: top;\n",
       "    }\n",
       "\n",
       "    .dataframe thead th {\n",
       "        text-align: right;\n",
       "    }\n",
       "</style>\n",
       "<table border=\"1\" class=\"dataframe\">\n",
       "  <thead>\n",
       "    <tr style=\"text-align: right;\">\n",
       "      <th></th>\n",
       "      <th>material</th>\n",
       "      <th>per_unit_cost</th>\n",
       "      <th>quantity</th>\n",
       "      <th>complexity_score</th>\n",
       "      <th>surface_area</th>\n",
       "      <th>bounding_box_volume</th>\n",
       "      <th>volume</th>\n",
       "      <th>max_x_length</th>\n",
       "      <th>max_y_length</th>\n",
       "      <th>max_z_length</th>\n",
       "      <th>optimal_fit_on_hp_build_plate</th>\n",
       "    </tr>\n",
       "  </thead>\n",
       "  <tbody>\n",
       "    <tr>\n",
       "      <th>0</th>\n",
       "      <td>ABS-M30</td>\n",
       "      <td>30.67</td>\n",
       "      <td>2</td>\n",
       "      <td>8.951051</td>\n",
       "      <td>{\"units\": \"in^2/\", \"value\": 30.86906387028813}</td>\n",
       "      <td>{\"units\": \"in^3/\", \"value\": 21.753358840942383}</td>\n",
       "      <td>{\"units\": \"in^3/\", \"value\": 2.392122115044577}</td>\n",
       "      <td>{\"units\": \"in\", \"value\": 7.431044101715088}</td>\n",
       "      <td>{\"units\": \"in\", \"value\": 2.342428207397461}</td>\n",
       "      <td>{\"units\": \"in\", \"value\": 1.2497128248214722}</td>\n",
       "      <td>1046.0</td>\n",
       "    </tr>\n",
       "  </tbody>\n",
       "</table>\n",
       "</div>"
      ],
      "text/plain": [
       "  material  per_unit_cost  quantity  complexity_score  \\\n",
       "0  ABS-M30          30.67         2          8.951051   \n",
       "\n",
       "                                     surface_area  \\\n",
       "0  {\"units\": \"in^2/\", \"value\": 30.86906387028813}   \n",
       "\n",
       "                               bounding_box_volume  \\\n",
       "0  {\"units\": \"in^3/\", \"value\": 21.753358840942383}   \n",
       "\n",
       "                                           volume  \\\n",
       "0  {\"units\": \"in^3/\", \"value\": 2.392122115044577}   \n",
       "\n",
       "                                  max_x_length  \\\n",
       "0  {\"units\": \"in\", \"value\": 7.431044101715088}   \n",
       "\n",
       "                                  max_y_length  \\\n",
       "0  {\"units\": \"in\", \"value\": 2.342428207397461}   \n",
       "\n",
       "                                   max_z_length  optimal_fit_on_hp_build_plate  \n",
       "0  {\"units\": \"in\", \"value\": 1.2497128248214722}                         1046.0  "
      ]
     },
     "execution_count": 59,
     "metadata": {},
     "output_type": "execute_result"
    }
   ],
   "source": [
    "df = pd.read_csv(\"best_ever_costs.csv\")\n",
    "df.head(1)\n",
    "#Will only print out the first row for the sake of protecting the data"
   ]
  },
  {
   "cell_type": "code",
   "execution_count": 3,
   "id": "5ce44af3",
   "metadata": {},
   "outputs": [
    {
     "data": {
      "text/plain": [
       "(1076, 11)"
      ]
     },
     "execution_count": 3,
     "metadata": {},
     "output_type": "execute_result"
    }
   ],
   "source": [
    "df.shape"
   ]
  },
  {
   "cell_type": "code",
   "execution_count": 4,
   "id": "2003f7e9",
   "metadata": {},
   "outputs": [
    {
     "name": "stdout",
     "output_type": "stream",
     "text": [
      "<class 'pandas.core.frame.DataFrame'>\n",
      "RangeIndex: 1076 entries, 0 to 1075\n",
      "Data columns (total 11 columns):\n",
      " #   Column                         Non-Null Count  Dtype  \n",
      "---  ------                         --------------  -----  \n",
      " 0   material                       1076 non-null   object \n",
      " 1   per_unit_cost                  1076 non-null   float64\n",
      " 2   quantity                       1076 non-null   int64  \n",
      " 3   complexity_score               832 non-null    float64\n",
      " 4   surface_area                   1076 non-null   object \n",
      " 5   bounding_box_volume            1076 non-null   object \n",
      " 6   volume                         1076 non-null   object \n",
      " 7   max_x_length                   1076 non-null   object \n",
      " 8   max_y_length                   1076 non-null   object \n",
      " 9   max_z_length                   1076 non-null   object \n",
      " 10  optimal_fit_on_hp_build_plate  798 non-null    float64\n",
      "dtypes: float64(3), int64(1), object(7)\n",
      "memory usage: 92.6+ KB\n"
     ]
    }
   ],
   "source": [
    "df.info()"
   ]
  },
  {
   "cell_type": "code",
   "execution_count": 62,
   "id": "d269d350",
   "metadata": {},
   "outputs": [],
   "source": [
    "#Before I check for outliers or missing values, I have to address certain columns first\n",
    "#Some columns have units and text before the actual values I want, so I'm going to remove everything that's \n",
    "#preceding these values\n",
    "\n",
    "# #Create two columns for each:\n",
    "# #This was the old, extremely non-elegant approach\n",
    "# df['surface_area_units'] = df['surface_area'].apply(lambda x: json.loads(x)['units'])\n",
    "# df['surface_area_value'] = df['surface_area'].apply(lambda x: json.loads(x)['value'])\n",
    "# df['bounding_box_volume_units'] = df['bounding_box_volume'].apply(lambda x: json.loads(x)['units'])\n",
    "# df['bounding_box_volume_value'] = df['bounding_box_volume'].apply(lambda x: json.loads(x)['value'])\n",
    "# df['max_x_length_units'] = df['max_x_length'].apply(lambda x: json.loads(x)['units'])\n",
    "# df['max_x_length_value'] = df['max_x_length'].apply(lambda x: json.loads(x)['value'])\n",
    "# df['volume_units'] = df['volume'].apply(lambda x: json.loads(x)['units'])\n",
    "# df['volume_value'] = df['volume'].apply(lambda x: json.loads(x)['value'])\n",
    "# df['max_y_length_units'] = df['max_y_length'].apply(lambda x: json.loads(x)['units'])\n",
    "# df['max_y_length_value'] = df['max_y_length'].apply(lambda x: json.loads(x)['value'])\n",
    "# df['max_z_length_units'] = df['max_z_length'].apply(lambda x: json.loads(x)['units'])\n",
    "# df['max_z_length_value'] = df['max_z_length'].apply(lambda x: json.loads(x)['value'])\n",
    "\n",
    "\n",
    "#This is significantly better, using way fewer lines of code\n",
    "#Instead of above, write this\n",
    "cols = [\"surface_area\", \"bounding_box_volume\", \"volume\", \"max_x_length\", \"max_y_length\", \"max_z_length\"]\n",
    "newcols = [col + \"_value\" for col in cols]\n",
    "\n",
    "df[newcols] = df[cols].applymap(lambda x: json.loads(x)[\"value\"])\n",
    "\n",
    "cols1 = [\"surface_area\", \"bounding_box_volume\", \"volume\", \"max_x_length\", \"max_y_length\", \"max_z_length\"]\n",
    "newcols1 = [col + \"_units\" for col in cols1]\n",
    "\n",
    "df[newcols1] = df[cols1].applymap(lambda x: json.loads(x)[\"units\"])\n",
    "\n",
    "\n",
    "#Convert all the mm units\n",
    "df.loc[df[\"surface_area_units\"] == \"in^2/\", \"surface_area_value\"] *= (25.4**2)\n",
    "df.loc[df[\"bounding_box_volume_units\"] == \"in^3\", \"bounding_box_volume_value\"] *= (25.4**3)\n",
    "df.loc[df[\"max_x_length_units\"] == \"in\", \"max_x_length_value\"] *= 25.4\n",
    "df.loc[df[\"max_y_length_units\"] == \"in\", \"max_y_length_value\"] *= 25.4\n",
    "df.loc[df[\"max_z_length_units\"] == \"in\", \"max_z_length_value\"] *= 25.4\n",
    "df.loc[df[\"volume_units\"] == \"in^3\", \"volume_value\"] *= (25.4**3)"
   ]
  },
  {
   "cell_type": "code",
   "execution_count": 63,
   "id": "4487f5ea",
   "metadata": {},
   "outputs": [
    {
     "data": {
      "text/html": [
       "<div>\n",
       "<style scoped>\n",
       "    .dataframe tbody tr th:only-of-type {\n",
       "        vertical-align: middle;\n",
       "    }\n",
       "\n",
       "    .dataframe tbody tr th {\n",
       "        vertical-align: top;\n",
       "    }\n",
       "\n",
       "    .dataframe thead th {\n",
       "        text-align: right;\n",
       "    }\n",
       "</style>\n",
       "<table border=\"1\" class=\"dataframe\">\n",
       "  <thead>\n",
       "    <tr style=\"text-align: right;\">\n",
       "      <th></th>\n",
       "      <th>material</th>\n",
       "      <th>per_unit_cost</th>\n",
       "      <th>quantity</th>\n",
       "      <th>complexity_score</th>\n",
       "      <th>surface_area</th>\n",
       "      <th>bounding_box_volume</th>\n",
       "      <th>volume</th>\n",
       "      <th>max_x_length</th>\n",
       "      <th>max_y_length</th>\n",
       "      <th>max_z_length</th>\n",
       "      <th>...</th>\n",
       "      <th>volume_value</th>\n",
       "      <th>max_x_length_value</th>\n",
       "      <th>max_y_length_value</th>\n",
       "      <th>max_z_length_value</th>\n",
       "      <th>surface_area_units</th>\n",
       "      <th>bounding_box_volume_units</th>\n",
       "      <th>volume_units</th>\n",
       "      <th>max_x_length_units</th>\n",
       "      <th>max_y_length_units</th>\n",
       "      <th>max_z_length_units</th>\n",
       "    </tr>\n",
       "  </thead>\n",
       "  <tbody>\n",
       "    <tr>\n",
       "      <th>0</th>\n",
       "      <td>ABS-M30</td>\n",
       "      <td>30.67</td>\n",
       "      <td>2</td>\n",
       "      <td>8.951051</td>\n",
       "      <td>{\"units\": \"in^2/\", \"value\": 30.86906387028813}</td>\n",
       "      <td>{\"units\": \"in^3/\", \"value\": 21.753358840942383}</td>\n",
       "      <td>{\"units\": \"in^3/\", \"value\": 2.392122115044577}</td>\n",
       "      <td>{\"units\": \"in\", \"value\": 7.431044101715088}</td>\n",
       "      <td>{\"units\": \"in\", \"value\": 2.342428207397461}</td>\n",
       "      <td>{\"units\": \"in\", \"value\": 1.2497128248214722}</td>\n",
       "      <td>...</td>\n",
       "      <td>2.392122</td>\n",
       "      <td>188.74852</td>\n",
       "      <td>59.497676</td>\n",
       "      <td>31.742706</td>\n",
       "      <td>in^2/</td>\n",
       "      <td>in^3/</td>\n",
       "      <td>in^3/</td>\n",
       "      <td>in</td>\n",
       "      <td>in</td>\n",
       "      <td>in</td>\n",
       "    </tr>\n",
       "  </tbody>\n",
       "</table>\n",
       "<p>1 rows × 23 columns</p>\n",
       "</div>"
      ],
      "text/plain": [
       "  material  per_unit_cost  quantity  complexity_score  \\\n",
       "0  ABS-M30          30.67         2          8.951051   \n",
       "\n",
       "                                     surface_area  \\\n",
       "0  {\"units\": \"in^2/\", \"value\": 30.86906387028813}   \n",
       "\n",
       "                               bounding_box_volume  \\\n",
       "0  {\"units\": \"in^3/\", \"value\": 21.753358840942383}   \n",
       "\n",
       "                                           volume  \\\n",
       "0  {\"units\": \"in^3/\", \"value\": 2.392122115044577}   \n",
       "\n",
       "                                  max_x_length  \\\n",
       "0  {\"units\": \"in\", \"value\": 7.431044101715088}   \n",
       "\n",
       "                                  max_y_length  \\\n",
       "0  {\"units\": \"in\", \"value\": 2.342428207397461}   \n",
       "\n",
       "                                   max_z_length  ...  volume_value  \\\n",
       "0  {\"units\": \"in\", \"value\": 1.2497128248214722}  ...      2.392122   \n",
       "\n",
       "   max_x_length_value  max_y_length_value  max_z_length_value  \\\n",
       "0           188.74852           59.497676           31.742706   \n",
       "\n",
       "   surface_area_units  bounding_box_volume_units  volume_units  \\\n",
       "0               in^2/                      in^3/         in^3/   \n",
       "\n",
       "  max_x_length_units max_y_length_units max_z_length_units  \n",
       "0                 in                 in                 in  \n",
       "\n",
       "[1 rows x 23 columns]"
      ]
     },
     "execution_count": 63,
     "metadata": {},
     "output_type": "execute_result"
    }
   ],
   "source": [
    "#Extra columns are now added to the end\n",
    "df.head(1)"
   ]
  },
  {
   "cell_type": "code",
   "execution_count": 64,
   "id": "163c0343",
   "metadata": {},
   "outputs": [],
   "source": [
    "#Drop all the columns we no longer need\n",
    "df = df.drop([\"surface_area\", \n",
    "              \"bounding_box_volume\", \n",
    "              \"volume\", \n",
    "              \"max_x_length\", \n",
    "              \"max_y_length\", \n",
    "              \"max_z_length\",\n",
    "              \"surface_area_units\",\n",
    "              \"bounding_box_volume_units\",\n",
    "              \"max_x_length_units\",\n",
    "              \"max_y_length_units\",\n",
    "              \"max_z_length_units\",\n",
    "              \"volume_units\"], axis = 1)"
   ]
  },
  {
   "cell_type": "code",
   "execution_count": 65,
   "id": "6b527c86",
   "metadata": {},
   "outputs": [
    {
     "name": "stdout",
     "output_type": "stream",
     "text": [
      "<class 'pandas.core.frame.DataFrame'>\n",
      "RangeIndex: 1076 entries, 0 to 1075\n",
      "Data columns (total 11 columns):\n",
      " #   Column                         Non-Null Count  Dtype  \n",
      "---  ------                         --------------  -----  \n",
      " 0   material                       1076 non-null   object \n",
      " 1   per_unit_cost                  1076 non-null   float64\n",
      " 2   quantity                       1076 non-null   int64  \n",
      " 3   complexity_score               832 non-null    float64\n",
      " 4   optimal_fit_on_hp_build_plate  798 non-null    float64\n",
      " 5   surface_area_value             832 non-null    float64\n",
      " 6   bounding_box_volume_value      832 non-null    float64\n",
      " 7   volume_value                   832 non-null    float64\n",
      " 8   max_x_length_value             832 non-null    float64\n",
      " 9   max_y_length_value             832 non-null    float64\n",
      " 10  max_z_length_value             832 non-null    float64\n",
      "dtypes: float64(9), int64(1), object(1)\n",
      "memory usage: 92.6+ KB\n"
     ]
    }
   ],
   "source": [
    "#Still have to change \"material\" column \n",
    "#All other object columns that aren't \"material\" will get dropped later, so they won't cause an issue\n",
    "df.info()"
   ]
  },
  {
   "cell_type": "code",
   "execution_count": 66,
   "id": "312b12a3",
   "metadata": {},
   "outputs": [
    {
     "data": {
      "text/html": [
       "<div>\n",
       "<style scoped>\n",
       "    .dataframe tbody tr th:only-of-type {\n",
       "        vertical-align: middle;\n",
       "    }\n",
       "\n",
       "    .dataframe tbody tr th {\n",
       "        vertical-align: top;\n",
       "    }\n",
       "\n",
       "    .dataframe thead th {\n",
       "        text-align: right;\n",
       "    }\n",
       "</style>\n",
       "<table border=\"1\" class=\"dataframe\">\n",
       "  <thead>\n",
       "    <tr style=\"text-align: right;\">\n",
       "      <th></th>\n",
       "      <th>per_unit_cost</th>\n",
       "      <th>quantity</th>\n",
       "      <th>complexity_score</th>\n",
       "      <th>optimal_fit_on_hp_build_plate</th>\n",
       "      <th>surface_area_value</th>\n",
       "      <th>bounding_box_volume_value</th>\n",
       "      <th>volume_value</th>\n",
       "      <th>max_x_length_value</th>\n",
       "      <th>max_y_length_value</th>\n",
       "      <th>max_z_length_value</th>\n",
       "    </tr>\n",
       "  </thead>\n",
       "  <tbody>\n",
       "    <tr>\n",
       "      <th>count</th>\n",
       "      <td>1076.000000</td>\n",
       "      <td>1076.000000</td>\n",
       "      <td>832.000000</td>\n",
       "      <td>7.980000e+02</td>\n",
       "      <td>8.320000e+02</td>\n",
       "      <td>8.320000e+02</td>\n",
       "      <td>8.320000e+02</td>\n",
       "      <td>832.000000</td>\n",
       "      <td>832.000000</td>\n",
       "      <td>832.000000</td>\n",
       "    </tr>\n",
       "    <tr>\n",
       "      <th>mean</th>\n",
       "      <td>490.015502</td>\n",
       "      <td>152.282528</td>\n",
       "      <td>8.225256</td>\n",
       "      <td>1.987327e+05</td>\n",
       "      <td>1.263582e+07</td>\n",
       "      <td>3.386918e+06</td>\n",
       "      <td>4.870516e+05</td>\n",
       "      <td>953.680171</td>\n",
       "      <td>639.257075</td>\n",
       "      <td>590.051518</td>\n",
       "    </tr>\n",
       "    <tr>\n",
       "      <th>std</th>\n",
       "      <td>4976.020408</td>\n",
       "      <td>941.027979</td>\n",
       "      <td>1.512760</td>\n",
       "      <td>1.738396e+06</td>\n",
       "      <td>5.022770e+07</td>\n",
       "      <td>1.363711e+07</td>\n",
       "      <td>2.785420e+06</td>\n",
       "      <td>3646.675469</td>\n",
       "      <td>2060.326861</td>\n",
       "      <td>1973.582028</td>\n",
       "    </tr>\n",
       "    <tr>\n",
       "      <th>min</th>\n",
       "      <td>0.490000</td>\n",
       "      <td>1.000000</td>\n",
       "      <td>0.000000</td>\n",
       "      <td>0.000000e+00</td>\n",
       "      <td>4.290256e+00</td>\n",
       "      <td>5.157359e-01</td>\n",
       "      <td>7.065584e-02</td>\n",
       "      <td>0.562491</td>\n",
       "      <td>0.562499</td>\n",
       "      <td>0.375000</td>\n",
       "    </tr>\n",
       "    <tr>\n",
       "      <th>25%</th>\n",
       "      <td>24.000000</td>\n",
       "      <td>1.000000</td>\n",
       "      <td>7.585075</td>\n",
       "      <td>1.200000e+01</td>\n",
       "      <td>1.574804e+04</td>\n",
       "      <td>1.057144e+03</td>\n",
       "      <td>1.614617e+02</td>\n",
       "      <td>57.373678</td>\n",
       "      <td>39.900024</td>\n",
       "      <td>23.055749</td>\n",
       "    </tr>\n",
       "    <tr>\n",
       "      <th>50%</th>\n",
       "      <td>80.000000</td>\n",
       "      <td>2.000000</td>\n",
       "      <td>8.903856</td>\n",
       "      <td>1.750000e+02</td>\n",
       "      <td>5.631184e+04</td>\n",
       "      <td>2.283920e+05</td>\n",
       "      <td>3.157791e+04</td>\n",
       "      <td>126.591507</td>\n",
       "      <td>101.131004</td>\n",
       "      <td>77.249329</td>\n",
       "    </tr>\n",
       "    <tr>\n",
       "      <th>75%</th>\n",
       "      <td>264.000000</td>\n",
       "      <td>15.000000</td>\n",
       "      <td>9.079046</td>\n",
       "      <td>1.039000e+03</td>\n",
       "      <td>2.411644e+05</td>\n",
       "      <td>1.612816e+06</td>\n",
       "      <td>2.102480e+05</td>\n",
       "      <td>339.765167</td>\n",
       "      <td>202.061810</td>\n",
       "      <td>207.681991</td>\n",
       "    </tr>\n",
       "    <tr>\n",
       "      <th>max</th>\n",
       "      <td>160000.000000</td>\n",
       "      <td>10000.000000</td>\n",
       "      <td>10.332533</td>\n",
       "      <td>3.245873e+07</td>\n",
       "      <td>6.314390e+08</td>\n",
       "      <td>1.791115e+08</td>\n",
       "      <td>4.397511e+07</td>\n",
       "      <td>37541.860425</td>\n",
       "      <td>19354.800000</td>\n",
       "      <td>37541.860425</td>\n",
       "    </tr>\n",
       "  </tbody>\n",
       "</table>\n",
       "</div>"
      ],
      "text/plain": [
       "       per_unit_cost      quantity  complexity_score  \\\n",
       "count    1076.000000   1076.000000        832.000000   \n",
       "mean      490.015502    152.282528          8.225256   \n",
       "std      4976.020408    941.027979          1.512760   \n",
       "min         0.490000      1.000000          0.000000   \n",
       "25%        24.000000      1.000000          7.585075   \n",
       "50%        80.000000      2.000000          8.903856   \n",
       "75%       264.000000     15.000000          9.079046   \n",
       "max    160000.000000  10000.000000         10.332533   \n",
       "\n",
       "       optimal_fit_on_hp_build_plate  surface_area_value  \\\n",
       "count                   7.980000e+02        8.320000e+02   \n",
       "mean                    1.987327e+05        1.263582e+07   \n",
       "std                     1.738396e+06        5.022770e+07   \n",
       "min                     0.000000e+00        4.290256e+00   \n",
       "25%                     1.200000e+01        1.574804e+04   \n",
       "50%                     1.750000e+02        5.631184e+04   \n",
       "75%                     1.039000e+03        2.411644e+05   \n",
       "max                     3.245873e+07        6.314390e+08   \n",
       "\n",
       "       bounding_box_volume_value  volume_value  max_x_length_value  \\\n",
       "count               8.320000e+02  8.320000e+02          832.000000   \n",
       "mean                3.386918e+06  4.870516e+05          953.680171   \n",
       "std                 1.363711e+07  2.785420e+06         3646.675469   \n",
       "min                 5.157359e-01  7.065584e-02            0.562491   \n",
       "25%                 1.057144e+03  1.614617e+02           57.373678   \n",
       "50%                 2.283920e+05  3.157791e+04          126.591507   \n",
       "75%                 1.612816e+06  2.102480e+05          339.765167   \n",
       "max                 1.791115e+08  4.397511e+07        37541.860425   \n",
       "\n",
       "       max_y_length_value  max_z_length_value  \n",
       "count          832.000000          832.000000  \n",
       "mean           639.257075          590.051518  \n",
       "std           2060.326861         1973.582028  \n",
       "min              0.562499            0.375000  \n",
       "25%             39.900024           23.055749  \n",
       "50%            101.131004           77.249329  \n",
       "75%            202.061810          207.681991  \n",
       "max          19354.800000        37541.860425  "
      ]
     },
     "execution_count": 66,
     "metadata": {},
     "output_type": "execute_result"
    }
   ],
   "source": [
    "df.describe()"
   ]
  },
  {
   "cell_type": "code",
   "execution_count": 67,
   "id": "2f6616ce",
   "metadata": {},
   "outputs": [],
   "source": [
    "#There are some extreme outliers, so I will adjust them and bring them\n",
    "#in the 90% range of the data\n",
    "maximum = df[\"per_unit_cost\"].quantile(0.9)\n",
    "df = df[df[\"per_unit_cost\"] < maximum]\n",
    "\n",
    "maximum2 = df[\"quantity\"].quantile(0.9)\n",
    "df = df[df[\"quantity\"] < maximum2]"
   ]
  },
  {
   "cell_type": "code",
   "execution_count": 68,
   "id": "b7bfe90c",
   "metadata": {},
   "outputs": [
    {
     "data": {
      "text/html": [
       "<div>\n",
       "<style scoped>\n",
       "    .dataframe tbody tr th:only-of-type {\n",
       "        vertical-align: middle;\n",
       "    }\n",
       "\n",
       "    .dataframe tbody tr th {\n",
       "        vertical-align: top;\n",
       "    }\n",
       "\n",
       "    .dataframe thead th {\n",
       "        text-align: right;\n",
       "    }\n",
       "</style>\n",
       "<table border=\"1\" class=\"dataframe\">\n",
       "  <thead>\n",
       "    <tr style=\"text-align: right;\">\n",
       "      <th></th>\n",
       "      <th>per_unit_cost</th>\n",
       "      <th>quantity</th>\n",
       "      <th>complexity_score</th>\n",
       "      <th>optimal_fit_on_hp_build_plate</th>\n",
       "      <th>surface_area_value</th>\n",
       "      <th>bounding_box_volume_value</th>\n",
       "      <th>volume_value</th>\n",
       "      <th>max_x_length_value</th>\n",
       "      <th>max_y_length_value</th>\n",
       "      <th>max_z_length_value</th>\n",
       "    </tr>\n",
       "  </thead>\n",
       "  <tbody>\n",
       "    <tr>\n",
       "      <th>count</th>\n",
       "      <td>871.000000</td>\n",
       "      <td>871.000000</td>\n",
       "      <td>688.000000</td>\n",
       "      <td>6.710000e+02</td>\n",
       "      <td>6.880000e+02</td>\n",
       "      <td>6.880000e+02</td>\n",
       "      <td>6.880000e+02</td>\n",
       "      <td>688.000000</td>\n",
       "      <td>688.000000</td>\n",
       "      <td>688.000000</td>\n",
       "    </tr>\n",
       "    <tr>\n",
       "      <th>mean</th>\n",
       "      <td>138.923307</td>\n",
       "      <td>7.853042</td>\n",
       "      <td>8.277368</td>\n",
       "      <td>2.342004e+05</td>\n",
       "      <td>9.840514e+06</td>\n",
       "      <td>1.395142e+06</td>\n",
       "      <td>1.905991e+05</td>\n",
       "      <td>819.971607</td>\n",
       "      <td>526.433802</td>\n",
       "      <td>530.494059</td>\n",
       "    </tr>\n",
       "    <tr>\n",
       "      <th>std</th>\n",
       "      <td>166.298030</td>\n",
       "      <td>12.349749</td>\n",
       "      <td>1.424171</td>\n",
       "      <td>1.893614e+06</td>\n",
       "      <td>3.793782e+07</td>\n",
       "      <td>3.547577e+06</td>\n",
       "      <td>5.029868e+05</td>\n",
       "      <td>3188.961969</td>\n",
       "      <td>1545.832501</td>\n",
       "      <td>1483.760014</td>\n",
       "    </tr>\n",
       "    <tr>\n",
       "      <th>min</th>\n",
       "      <td>0.590000</td>\n",
       "      <td>1.000000</td>\n",
       "      <td>0.000000</td>\n",
       "      <td>0.000000e+00</td>\n",
       "      <td>4.290256e+00</td>\n",
       "      <td>5.157359e-01</td>\n",
       "      <td>7.065584e-02</td>\n",
       "      <td>0.562491</td>\n",
       "      <td>0.562499</td>\n",
       "      <td>0.375000</td>\n",
       "    </tr>\n",
       "    <tr>\n",
       "      <th>25%</th>\n",
       "      <td>24.000000</td>\n",
       "      <td>1.000000</td>\n",
       "      <td>7.707934</td>\n",
       "      <td>1.850000e+01</td>\n",
       "      <td>1.705443e+04</td>\n",
       "      <td>3.307566e+02</td>\n",
       "      <td>5.833566e+01</td>\n",
       "      <td>54.357616</td>\n",
       "      <td>40.008477</td>\n",
       "      <td>21.500000</td>\n",
       "    </tr>\n",
       "    <tr>\n",
       "      <th>50%</th>\n",
       "      <td>68.280000</td>\n",
       "      <td>2.000000</td>\n",
       "      <td>8.925279</td>\n",
       "      <td>2.150000e+02</td>\n",
       "      <td>5.116693e+04</td>\n",
       "      <td>2.042921e+05</td>\n",
       "      <td>2.472829e+04</td>\n",
       "      <td>117.649246</td>\n",
       "      <td>101.131004</td>\n",
       "      <td>76.749428</td>\n",
       "    </tr>\n",
       "    <tr>\n",
       "      <th>75%</th>\n",
       "      <td>184.255000</td>\n",
       "      <td>10.000000</td>\n",
       "      <td>9.072733</td>\n",
       "      <td>1.271500e+03</td>\n",
       "      <td>1.523180e+05</td>\n",
       "      <td>1.016822e+06</td>\n",
       "      <td>1.532640e+05</td>\n",
       "      <td>298.837509</td>\n",
       "      <td>188.082424</td>\n",
       "      <td>177.897614</td>\n",
       "    </tr>\n",
       "    <tr>\n",
       "      <th>max</th>\n",
       "      <td>783.000000</td>\n",
       "      <td>56.000000</td>\n",
       "      <td>10.332533</td>\n",
       "      <td>3.245873e+07</td>\n",
       "      <td>3.100713e+08</td>\n",
       "      <td>4.961630e+07</td>\n",
       "      <td>7.986477e+06</td>\n",
       "      <td>37425.731079</td>\n",
       "      <td>10779.249023</td>\n",
       "      <td>11653.525116</td>\n",
       "    </tr>\n",
       "  </tbody>\n",
       "</table>\n",
       "</div>"
      ],
      "text/plain": [
       "       per_unit_cost    quantity  complexity_score  \\\n",
       "count     871.000000  871.000000        688.000000   \n",
       "mean      138.923307    7.853042          8.277368   \n",
       "std       166.298030   12.349749          1.424171   \n",
       "min         0.590000    1.000000          0.000000   \n",
       "25%        24.000000    1.000000          7.707934   \n",
       "50%        68.280000    2.000000          8.925279   \n",
       "75%       184.255000   10.000000          9.072733   \n",
       "max       783.000000   56.000000         10.332533   \n",
       "\n",
       "       optimal_fit_on_hp_build_plate  surface_area_value  \\\n",
       "count                   6.710000e+02        6.880000e+02   \n",
       "mean                    2.342004e+05        9.840514e+06   \n",
       "std                     1.893614e+06        3.793782e+07   \n",
       "min                     0.000000e+00        4.290256e+00   \n",
       "25%                     1.850000e+01        1.705443e+04   \n",
       "50%                     2.150000e+02        5.116693e+04   \n",
       "75%                     1.271500e+03        1.523180e+05   \n",
       "max                     3.245873e+07        3.100713e+08   \n",
       "\n",
       "       bounding_box_volume_value  volume_value  max_x_length_value  \\\n",
       "count               6.880000e+02  6.880000e+02          688.000000   \n",
       "mean                1.395142e+06  1.905991e+05          819.971607   \n",
       "std                 3.547577e+06  5.029868e+05         3188.961969   \n",
       "min                 5.157359e-01  7.065584e-02            0.562491   \n",
       "25%                 3.307566e+02  5.833566e+01           54.357616   \n",
       "50%                 2.042921e+05  2.472829e+04          117.649246   \n",
       "75%                 1.016822e+06  1.532640e+05          298.837509   \n",
       "max                 4.961630e+07  7.986477e+06        37425.731079   \n",
       "\n",
       "       max_y_length_value  max_z_length_value  \n",
       "count          688.000000          688.000000  \n",
       "mean           526.433802          530.494059  \n",
       "std           1545.832501         1483.760014  \n",
       "min              0.562499            0.375000  \n",
       "25%             40.008477           21.500000  \n",
       "50%            101.131004           76.749428  \n",
       "75%            188.082424          177.897614  \n",
       "max          10779.249023        11653.525116  "
      ]
     },
     "execution_count": 68,
     "metadata": {},
     "output_type": "execute_result"
    }
   ],
   "source": [
    "#These columns should not be less extreme\n",
    "df.describe()"
   ]
  },
  {
   "cell_type": "code",
   "execution_count": 69,
   "id": "ae49bd38",
   "metadata": {},
   "outputs": [
    {
     "data": {
      "text/plain": [
       "ABS-M30       247\n",
       "ABS           241\n",
       "ASA           102\n",
       "PC-ABS         61\n",
       "Ultem 9085     60\n",
       "Ultem 1010     42\n",
       "PC             34\n",
       "PC-ISO         29\n",
       "Nylon 12       22\n",
       "ABS-ESD7       16\n",
       "PPSF           10\n",
       "Pekk            2\n",
       "Nylon 12CF      2\n",
       "Nylon 6         1\n",
       "ABS-M30i        1\n",
       "ST-130          1\n",
       "Name: material, dtype: int64"
      ]
     },
     "execution_count": 69,
     "metadata": {},
     "output_type": "execute_result"
    }
   ],
   "source": [
    "#I want to see how many unique \"material\" options there are\n",
    "#and how frequent each one is\n",
    "df[\"material\"].value_counts()"
   ]
  },
  {
   "cell_type": "code",
   "execution_count": 70,
   "id": "f5bdc6dd",
   "metadata": {},
   "outputs": [
    {
     "data": {
      "text/plain": [
       "material                         0.000000\n",
       "per_unit_cost                    0.000000\n",
       "quantity                         0.000000\n",
       "complexity_score                 0.210103\n",
       "optimal_fit_on_hp_build_plate    0.229621\n",
       "surface_area_value               0.210103\n",
       "bounding_box_volume_value        0.210103\n",
       "volume_value                     0.210103\n",
       "max_x_length_value               0.210103\n",
       "max_y_length_value               0.210103\n",
       "max_z_length_value               0.210103\n",
       "dtype: float64"
      ]
     },
     "execution_count": 70,
     "metadata": {},
     "output_type": "execute_result"
    }
   ],
   "source": [
    "#I also want to see how many values are missing\n",
    "df.isna().mean()"
   ]
  },
  {
   "cell_type": "code",
   "execution_count": 71,
   "id": "7974a41a",
   "metadata": {},
   "outputs": [],
   "source": [
    "#It appears that a lot of rows are missing the same values\n",
    "#This tells us that a lot of these rows don't containt a lot of data,\n",
    "#so intead of trying to fill in the NaN's, I will drop a supset of one of\n",
    "#these rows and see if that eliminates the majority of my missing values.\n",
    "#If it does, then that means that my assumption was correct, and all these\n",
    "#rows had the same data missing\n",
    "df = df.dropna(subset = [\"volume_value\"])"
   ]
  },
  {
   "cell_type": "code",
   "execution_count": 73,
   "id": "002c8851",
   "metadata": {},
   "outputs": [
    {
     "data": {
      "text/plain": [
       "material                         0.000000\n",
       "per_unit_cost                    0.000000\n",
       "quantity                         0.000000\n",
       "complexity_score                 0.000000\n",
       "optimal_fit_on_hp_build_plate    0.024709\n",
       "surface_area_value               0.000000\n",
       "bounding_box_volume_value        0.000000\n",
       "volume_value                     0.000000\n",
       "max_x_length_value               0.000000\n",
       "max_y_length_value               0.000000\n",
       "max_z_length_value               0.000000\n",
       "dtype: float64"
      ]
     },
     "execution_count": 73,
     "metadata": {},
     "output_type": "execute_result"
    }
   ],
   "source": [
    "#Now I can check for outliers and missing values\n",
    "df.isna().mean()"
   ]
  },
  {
   "cell_type": "code",
   "execution_count": 74,
   "id": "e8966f2c",
   "metadata": {},
   "outputs": [],
   "source": [
    "#Only one column has nans, and there are a few of them.\n",
    "#From the above .describe() we can see that this specific column doesn't\n",
    "#have the meand and std within range of each other.\n",
    "#This tells us that filling the NaN's in with the .mean() isn't a good approach.\n",
    "#Instead I'll use .interpolate()\n",
    "df = df.interpolate(limit_direction = \"both\")"
   ]
  },
  {
   "cell_type": "code",
   "execution_count": 75,
   "id": "60e8201c",
   "metadata": {},
   "outputs": [
    {
     "data": {
      "text/plain": [
       "material                         0.0\n",
       "per_unit_cost                    0.0\n",
       "quantity                         0.0\n",
       "complexity_score                 0.0\n",
       "optimal_fit_on_hp_build_plate    0.0\n",
       "surface_area_value               0.0\n",
       "bounding_box_volume_value        0.0\n",
       "volume_value                     0.0\n",
       "max_x_length_value               0.0\n",
       "max_y_length_value               0.0\n",
       "max_z_length_value               0.0\n",
       "dtype: float64"
      ]
     },
     "execution_count": 75,
     "metadata": {},
     "output_type": "execute_result"
    }
   ],
   "source": [
    "#There should be no NaN's left\n",
    "df.isna().mean()"
   ]
  },
  {
   "cell_type": "code",
   "execution_count": 77,
   "id": "44252c9e",
   "metadata": {},
   "outputs": [
    {
     "data": {
      "text/html": [
       "<div>\n",
       "<style scoped>\n",
       "    .dataframe tbody tr th:only-of-type {\n",
       "        vertical-align: middle;\n",
       "    }\n",
       "\n",
       "    .dataframe tbody tr th {\n",
       "        vertical-align: top;\n",
       "    }\n",
       "\n",
       "    .dataframe thead th {\n",
       "        text-align: right;\n",
       "    }\n",
       "</style>\n",
       "<table border=\"1\" class=\"dataframe\">\n",
       "  <thead>\n",
       "    <tr style=\"text-align: right;\">\n",
       "      <th></th>\n",
       "      <th>per_unit_cost</th>\n",
       "      <th>quantity</th>\n",
       "      <th>complexity_score</th>\n",
       "      <th>optimal_fit_on_hp_build_plate</th>\n",
       "      <th>surface_area_value</th>\n",
       "      <th>bounding_box_volume_value</th>\n",
       "      <th>volume_value</th>\n",
       "      <th>max_x_length_value</th>\n",
       "      <th>max_y_length_value</th>\n",
       "      <th>max_z_length_value</th>\n",
       "      <th>...</th>\n",
       "      <th>Nylon 12CF</th>\n",
       "      <th>Nylon 6</th>\n",
       "      <th>PC</th>\n",
       "      <th>PC-ABS</th>\n",
       "      <th>PC-ISO</th>\n",
       "      <th>PPSF</th>\n",
       "      <th>Pekk</th>\n",
       "      <th>ST-130</th>\n",
       "      <th>Ultem 1010</th>\n",
       "      <th>Ultem 9085</th>\n",
       "    </tr>\n",
       "  </thead>\n",
       "  <tbody>\n",
       "    <tr>\n",
       "      <th>0</th>\n",
       "      <td>30.67</td>\n",
       "      <td>2</td>\n",
       "      <td>8.951051</td>\n",
       "      <td>1046.0</td>\n",
       "      <td>19915.485247</td>\n",
       "      <td>21.753359</td>\n",
       "      <td>2.392122</td>\n",
       "      <td>188.74852</td>\n",
       "      <td>59.497676</td>\n",
       "      <td>31.742706</td>\n",
       "      <td>...</td>\n",
       "      <td>0</td>\n",
       "      <td>0</td>\n",
       "      <td>0</td>\n",
       "      <td>0</td>\n",
       "      <td>0</td>\n",
       "      <td>0</td>\n",
       "      <td>0</td>\n",
       "      <td>0</td>\n",
       "      <td>0</td>\n",
       "      <td>0</td>\n",
       "    </tr>\n",
       "  </tbody>\n",
       "</table>\n",
       "<p>1 rows × 26 columns</p>\n",
       "</div>"
      ],
      "text/plain": [
       "   per_unit_cost  quantity  complexity_score  optimal_fit_on_hp_build_plate  \\\n",
       "0          30.67         2          8.951051                         1046.0   \n",
       "\n",
       "   surface_area_value  bounding_box_volume_value  volume_value  \\\n",
       "0        19915.485247                  21.753359      2.392122   \n",
       "\n",
       "   max_x_length_value  max_y_length_value  max_z_length_value  ...  \\\n",
       "0           188.74852           59.497676           31.742706  ...   \n",
       "\n",
       "   Nylon 12CF  Nylon 6  PC  PC-ABS  PC-ISO  PPSF  Pekk  ST-130  Ultem 1010  \\\n",
       "0           0        0   0       0       0     0     0       0           0   \n",
       "\n",
       "   Ultem 9085  \n",
       "0           0  \n",
       "\n",
       "[1 rows x 26 columns]"
      ]
     },
     "execution_count": 77,
     "metadata": {},
     "output_type": "execute_result"
    }
   ],
   "source": [
    "#Last thing left to do is encode the \"material\" values\n",
    "#Since I am applying the encoding to the entire df, rather than after the\n",
    "#spplit has been made, I will use .get_dummies(), and concat the dummie\n",
    "#columns to the original df table\n",
    "df_dummie = pd.get_dummies(df[\"material\"])\n",
    "df = pd.concat([df, df_dummie], axis = 1)\n",
    "df = df.drop(\"material\", axis = 1)\n",
    "df.head(1)"
   ]
  },
  {
   "cell_type": "code",
   "execution_count": 78,
   "id": "a3c8ba93",
   "metadata": {
    "scrolled": true
   },
   "outputs": [],
   "source": [
    "#Since I will most likely end up using the decision tree model, followed by\n",
    "#random forest, I will not use L1 regularization since it is not necessary for \n",
    "#this method.\n",
    "\n",
    "#All that's left now is to separate the data into X and y and train and test\n",
    "\n",
    "X = df.iloc[:, df.columns != \"per_unit_cost\"]\n",
    "\n",
    "y = df[\"per_unit_cost\"]"
   ]
  },
  {
   "cell_type": "markdown",
   "id": "6ae8aee8",
   "metadata": {},
   "source": [
    "## Decision Tree"
   ]
  },
  {
   "cell_type": "code",
   "execution_count": 79,
   "id": "b644dc94",
   "metadata": {},
   "outputs": [
    {
     "data": {
      "text/plain": [
       "DecisionTreeRegressor(random_state=100)"
      ]
     },
     "execution_count": 79,
     "metadata": {},
     "output_type": "execute_result"
    }
   ],
   "source": [
    "X_train, X_test, y_train, y_test = train_test_split(X, y, test_size = 0.3, random_state = 42)\n",
    "model = DecisionTreeRegressor(random_state = 100)\n",
    "model.fit(X_train, y_train)"
   ]
  },
  {
   "cell_type": "code",
   "execution_count": 80,
   "id": "fd4debc4",
   "metadata": {},
   "outputs": [],
   "source": [
    "y_pred = model.predict(X_test)"
   ]
  },
  {
   "cell_type": "code",
   "execution_count": 81,
   "id": "65146d06",
   "metadata": {},
   "outputs": [
    {
     "data": {
      "text/html": [
       "<div>\n",
       "<style scoped>\n",
       "    .dataframe tbody tr th:only-of-type {\n",
       "        vertical-align: middle;\n",
       "    }\n",
       "\n",
       "    .dataframe tbody tr th {\n",
       "        vertical-align: top;\n",
       "    }\n",
       "\n",
       "    .dataframe thead th {\n",
       "        text-align: right;\n",
       "    }\n",
       "</style>\n",
       "<table border=\"1\" class=\"dataframe\">\n",
       "  <thead>\n",
       "    <tr style=\"text-align: right;\">\n",
       "      <th></th>\n",
       "      <th>Actual</th>\n",
       "      <th>Predicted</th>\n",
       "    </tr>\n",
       "  </thead>\n",
       "  <tbody>\n",
       "    <tr>\n",
       "      <th>329</th>\n",
       "      <td>426.15</td>\n",
       "      <td>435.75</td>\n",
       "    </tr>\n",
       "    <tr>\n",
       "      <th>998</th>\n",
       "      <td>48.00</td>\n",
       "      <td>35.10</td>\n",
       "    </tr>\n",
       "    <tr>\n",
       "      <th>289</th>\n",
       "      <td>36.80</td>\n",
       "      <td>18.41</td>\n",
       "    </tr>\n",
       "    <tr>\n",
       "      <th>392</th>\n",
       "      <td>3.47</td>\n",
       "      <td>40.00</td>\n",
       "    </tr>\n",
       "    <tr>\n",
       "      <th>371</th>\n",
       "      <td>434.00</td>\n",
       "      <td>592.00</td>\n",
       "    </tr>\n",
       "    <tr>\n",
       "      <th>...</th>\n",
       "      <td>...</td>\n",
       "      <td>...</td>\n",
       "    </tr>\n",
       "    <tr>\n",
       "      <th>981</th>\n",
       "      <td>88.00</td>\n",
       "      <td>58.00</td>\n",
       "    </tr>\n",
       "    <tr>\n",
       "      <th>78</th>\n",
       "      <td>549.60</td>\n",
       "      <td>424.45</td>\n",
       "    </tr>\n",
       "    <tr>\n",
       "      <th>12</th>\n",
       "      <td>63.70</td>\n",
       "      <td>39.40</td>\n",
       "    </tr>\n",
       "    <tr>\n",
       "      <th>1050</th>\n",
       "      <td>264.00</td>\n",
       "      <td>360.00</td>\n",
       "    </tr>\n",
       "    <tr>\n",
       "      <th>780</th>\n",
       "      <td>192.17</td>\n",
       "      <td>108.00</td>\n",
       "    </tr>\n",
       "  </tbody>\n",
       "</table>\n",
       "<p>207 rows × 2 columns</p>\n",
       "</div>"
      ],
      "text/plain": [
       "      Actual  Predicted\n",
       "329   426.15     435.75\n",
       "998    48.00      35.10\n",
       "289    36.80      18.41\n",
       "392     3.47      40.00\n",
       "371   434.00     592.00\n",
       "...      ...        ...\n",
       "981    88.00      58.00\n",
       "78    549.60     424.45\n",
       "12     63.70      39.40\n",
       "1050  264.00     360.00\n",
       "780   192.17     108.00\n",
       "\n",
       "[207 rows x 2 columns]"
      ]
     },
     "execution_count": 81,
     "metadata": {},
     "output_type": "execute_result"
    }
   ],
   "source": [
    "df1 = pd.DataFrame({\"Actual\": y_test, \"Predicted\": y_pred})\n",
    "df1"
   ]
  },
  {
   "cell_type": "code",
   "execution_count": 82,
   "id": "da9e6235",
   "metadata": {},
   "outputs": [
    {
     "name": "stdout",
     "output_type": "stream",
     "text": [
      "Mean Absolute Error:  42.56089371980677\n",
      "Mean Square Error:  10095.921537560385\n",
      "Root Mean Square Error:  100.47846305333489\n"
     ]
    }
   ],
   "source": [
    "print(\"Mean Absolute Error: \", metrics.mean_absolute_error(y_test, y_pred))\n",
    "print(\"Mean Square Error: \", metrics.mean_squared_error(y_test, y_pred))\n",
    "print(\"Root Mean Square Error: \", np.sqrt(metrics.mean_squared_error(y_test, y_pred)))"
   ]
  },
  {
   "cell_type": "code",
   "execution_count": 83,
   "id": "5aa73c5b",
   "metadata": {},
   "outputs": [
    {
     "data": {
      "image/png": "[encoded data removed]",
      "text/plain": [
       "<Figure size 432x288 with 1 Axes>"
      ]
     },
     "metadata": {
      "needs_background": "light"
     },
     "output_type": "display_data"
    }
   ],
   "source": [
    "#This can show me a better idea of my error\n",
    "x1, y1 = [0, 2000], [0, 2000]\n",
    "plt.plot(x1, y1, \"r-\")\n",
    "plt.scatter(y_test,y_pred)\n",
    "plt.xlim(0, 2000)\n",
    "plt.ylim(0, 2000)\n",
    "plt.show()"
   ]
  },
  {
   "cell_type": "code",
   "execution_count": null,
   "id": "a12cec90",
   "metadata": {},
   "outputs": [],
   "source": []
  },
  {
   "cell_type": "markdown",
   "id": "a36b21ae",
   "metadata": {},
   "source": [
    "## Multiple Regression"
   ]
  },
  {
   "cell_type": "markdown",
   "id": "9c2fcd76",
   "metadata": {},
   "source": [
    "Will use linear regression just to compare the results against the decision tree, so I can make sure that decison tree really is the best approach "
   ]
  },
  {
   "cell_type": "code",
   "execution_count": 84,
   "id": "950271d9",
   "metadata": {},
   "outputs": [
    {
     "data": {
      "text/plain": [
       "LinearRegression()"
      ]
     },
     "execution_count": 84,
     "metadata": {},
     "output_type": "execute_result"
    }
   ],
   "source": [
    "regr = linear_model.LinearRegression()\n",
    "regr.fit(X_train, y_train)"
   ]
  },
  {
   "cell_type": "code",
   "execution_count": 85,
   "id": "7018c5dc",
   "metadata": {},
   "outputs": [],
   "source": [
    "y_pred = regr.predict(X_test)"
   ]
  },
  {
   "cell_type": "code",
   "execution_count": 27,
   "id": "f06540a8",
   "metadata": {},
   "outputs": [
    {
     "data": {
      "text/plain": [
       "DecisionTreeRegressor(random_state=100)"
      ]
     },
     "execution_count": 27,
     "metadata": {},
     "output_type": "execute_result"
    }
   ],
   "source": [
    "X_train, X_test, y_train, y_test = train_test_split(X, y, test_size = 0.3, random_state = 42)\n",
    "model = DecisionTreeRegressor(random_state = 100)\n",
    "model.fit(X_train, y_train)"
   ]
  },
  {
   "cell_type": "code",
   "execution_count": 86,
   "id": "cf06bbb1",
   "metadata": {},
   "outputs": [
    {
     "data": {
      "text/html": [
       "<div>\n",
       "<style scoped>\n",
       "    .dataframe tbody tr th:only-of-type {\n",
       "        vertical-align: middle;\n",
       "    }\n",
       "\n",
       "    .dataframe tbody tr th {\n",
       "        vertical-align: top;\n",
       "    }\n",
       "\n",
       "    .dataframe thead th {\n",
       "        text-align: right;\n",
       "    }\n",
       "</style>\n",
       "<table border=\"1\" class=\"dataframe\">\n",
       "  <thead>\n",
       "    <tr style=\"text-align: right;\">\n",
       "      <th></th>\n",
       "      <th>Actual</th>\n",
       "      <th>Predicted</th>\n",
       "    </tr>\n",
       "  </thead>\n",
       "  <tbody>\n",
       "    <tr>\n",
       "      <th>329</th>\n",
       "      <td>426.15</td>\n",
       "      <td>1140.915103</td>\n",
       "    </tr>\n",
       "    <tr>\n",
       "      <th>998</th>\n",
       "      <td>48.00</td>\n",
       "      <td>147.445210</td>\n",
       "    </tr>\n",
       "    <tr>\n",
       "      <th>289</th>\n",
       "      <td>36.80</td>\n",
       "      <td>71.835519</td>\n",
       "    </tr>\n",
       "    <tr>\n",
       "      <th>392</th>\n",
       "      <td>3.47</td>\n",
       "      <td>64.296733</td>\n",
       "    </tr>\n",
       "    <tr>\n",
       "      <th>371</th>\n",
       "      <td>434.00</td>\n",
       "      <td>472.778592</td>\n",
       "    </tr>\n",
       "    <tr>\n",
       "      <th>...</th>\n",
       "      <td>...</td>\n",
       "      <td>...</td>\n",
       "    </tr>\n",
       "    <tr>\n",
       "      <th>981</th>\n",
       "      <td>88.00</td>\n",
       "      <td>85.812209</td>\n",
       "    </tr>\n",
       "    <tr>\n",
       "      <th>78</th>\n",
       "      <td>549.60</td>\n",
       "      <td>385.934351</td>\n",
       "    </tr>\n",
       "    <tr>\n",
       "      <th>12</th>\n",
       "      <td>63.70</td>\n",
       "      <td>97.010343</td>\n",
       "    </tr>\n",
       "    <tr>\n",
       "      <th>1050</th>\n",
       "      <td>264.00</td>\n",
       "      <td>236.263155</td>\n",
       "    </tr>\n",
       "    <tr>\n",
       "      <th>780</th>\n",
       "      <td>192.17</td>\n",
       "      <td>149.389092</td>\n",
       "    </tr>\n",
       "  </tbody>\n",
       "</table>\n",
       "<p>207 rows × 2 columns</p>\n",
       "</div>"
      ],
      "text/plain": [
       "      Actual    Predicted\n",
       "329   426.15  1140.915103\n",
       "998    48.00   147.445210\n",
       "289    36.80    71.835519\n",
       "392     3.47    64.296733\n",
       "371   434.00   472.778592\n",
       "...      ...          ...\n",
       "981    88.00    85.812209\n",
       "78    549.60   385.934351\n",
       "12     63.70    97.010343\n",
       "1050  264.00   236.263155\n",
       "780   192.17   149.389092\n",
       "\n",
       "[207 rows x 2 columns]"
      ]
     },
     "execution_count": 86,
     "metadata": {},
     "output_type": "execute_result"
    }
   ],
   "source": [
    "df = pd.DataFrame({\"Actual\": y_test, \"Predicted\": y_pred})\n",
    "df"
   ]
  },
  {
   "cell_type": "code",
   "execution_count": 87,
   "id": "6353c4b3",
   "metadata": {},
   "outputs": [
    {
     "name": "stdout",
     "output_type": "stream",
     "text": [
      "Mean Absolute Error:  92.5576711561195\n",
      "Mean Square Error:  17670.99944652201\n",
      "Root Mean Square Error:  132.93231152177415\n"
     ]
    }
   ],
   "source": [
    "print(\"Mean Absolute Error: \", metrics.mean_absolute_error(y_test, y_pred))\n",
    "print(\"Mean Square Error: \", metrics.mean_squared_error(y_test, y_pred))\n",
    "print(\"Root Mean Square Error: \", np.sqrt(metrics.mean_squared_error(y_test, y_pred)))"
   ]
  },
  {
   "cell_type": "code",
   "execution_count": 88,
   "id": "d33c958a",
   "metadata": {},
   "outputs": [],
   "source": [
    "#Since the error is higher, I will proceed with the decision tree"
   ]
  },
  {
   "cell_type": "code",
   "execution_count": null,
   "id": "0cb8722d",
   "metadata": {},
   "outputs": [],
   "source": []
  },
  {
   "cell_type": "code",
   "execution_count": null,
   "id": "0c5e4dfa",
   "metadata": {},
   "outputs": [],
   "source": []
  },
  {
   "cell_type": "markdown",
   "id": "d6c6a740",
   "metadata": {},
   "source": [
    "# Random Forest"
   ]
  },
  {
   "cell_type": "code",
   "execution_count": 89,
   "id": "25ff113d",
   "metadata": {},
   "outputs": [],
   "source": [
    "from sklearn.ensemble import RandomForestRegressor"
   ]
  },
  {
   "cell_type": "code",
   "execution_count": 90,
   "id": "4e8d9b11",
   "metadata": {},
   "outputs": [],
   "source": [
    "X_train, X_test, y_train, y_test = train_test_split(X, y, test_size = 0.3, random_state = 42)"
   ]
  },
  {
   "cell_type": "code",
   "execution_count": 91,
   "id": "4635b884",
   "metadata": {},
   "outputs": [
    {
     "data": {
      "text/plain": [
       "RandomForestRegressor(n_estimators=1000)"
      ]
     },
     "execution_count": 91,
     "metadata": {},
     "output_type": "execute_result"
    }
   ],
   "source": [
    "clf = RandomForestRegressor(n_estimators = 1000, min_samples_split = 2)\n",
    "clf.fit(X_train, y_train)"
   ]
  },
  {
   "cell_type": "code",
   "execution_count": 92,
   "id": "2e5f01cf",
   "metadata": {},
   "outputs": [
    {
     "data": {
      "text/html": [
       "<div>\n",
       "<style scoped>\n",
       "    .dataframe tbody tr th:only-of-type {\n",
       "        vertical-align: middle;\n",
       "    }\n",
       "\n",
       "    .dataframe tbody tr th {\n",
       "        vertical-align: top;\n",
       "    }\n",
       "\n",
       "    .dataframe thead th {\n",
       "        text-align: right;\n",
       "    }\n",
       "</style>\n",
       "<table border=\"1\" class=\"dataframe\">\n",
       "  <thead>\n",
       "    <tr style=\"text-align: right;\">\n",
       "      <th></th>\n",
       "      <th>Actual</th>\n",
       "      <th>Predicted</th>\n",
       "    </tr>\n",
       "  </thead>\n",
       "  <tbody>\n",
       "    <tr>\n",
       "      <th>329</th>\n",
       "      <td>426.15</td>\n",
       "      <td>506.223440</td>\n",
       "    </tr>\n",
       "    <tr>\n",
       "      <th>998</th>\n",
       "      <td>48.00</td>\n",
       "      <td>42.424230</td>\n",
       "    </tr>\n",
       "    <tr>\n",
       "      <th>289</th>\n",
       "      <td>36.80</td>\n",
       "      <td>32.296080</td>\n",
       "    </tr>\n",
       "    <tr>\n",
       "      <th>392</th>\n",
       "      <td>3.47</td>\n",
       "      <td>13.264573</td>\n",
       "    </tr>\n",
       "    <tr>\n",
       "      <th>371</th>\n",
       "      <td>434.00</td>\n",
       "      <td>507.338970</td>\n",
       "    </tr>\n",
       "    <tr>\n",
       "      <th>...</th>\n",
       "      <td>...</td>\n",
       "      <td>...</td>\n",
       "    </tr>\n",
       "    <tr>\n",
       "      <th>981</th>\n",
       "      <td>88.00</td>\n",
       "      <td>73.380560</td>\n",
       "    </tr>\n",
       "    <tr>\n",
       "      <th>78</th>\n",
       "      <td>549.60</td>\n",
       "      <td>374.682630</td>\n",
       "    </tr>\n",
       "    <tr>\n",
       "      <th>12</th>\n",
       "      <td>63.70</td>\n",
       "      <td>49.307840</td>\n",
       "    </tr>\n",
       "    <tr>\n",
       "      <th>1050</th>\n",
       "      <td>264.00</td>\n",
       "      <td>325.422051</td>\n",
       "    </tr>\n",
       "    <tr>\n",
       "      <th>780</th>\n",
       "      <td>192.17</td>\n",
       "      <td>92.255620</td>\n",
       "    </tr>\n",
       "  </tbody>\n",
       "</table>\n",
       "<p>207 rows × 2 columns</p>\n",
       "</div>"
      ],
      "text/plain": [
       "      Actual   Predicted\n",
       "329   426.15  506.223440\n",
       "998    48.00   42.424230\n",
       "289    36.80   32.296080\n",
       "392     3.47   13.264573\n",
       "371   434.00  507.338970\n",
       "...      ...         ...\n",
       "981    88.00   73.380560\n",
       "78    549.60  374.682630\n",
       "12     63.70   49.307840\n",
       "1050  264.00  325.422051\n",
       "780   192.17   92.255620\n",
       "\n",
       "[207 rows x 2 columns]"
      ]
     },
     "execution_count": 92,
     "metadata": {},
     "output_type": "execute_result"
    }
   ],
   "source": [
    "y_pred = clf.predict(X_test)\n",
    "df = pd.DataFrame({\"Actual\": y_test, \"Predicted\": y_pred})\n",
    "df"
   ]
  },
  {
   "cell_type": "code",
   "execution_count": 94,
   "id": "7b6e6bd5",
   "metadata": {},
   "outputs": [
    {
     "name": "stdout",
     "output_type": "stream",
     "text": [
      "Mean Absolute Error:  39.214198978088305\n",
      "Mean Square Error:  6941.145513375594\n",
      "Root Mean Square Error:  83.31353739564534\n"
     ]
    }
   ],
   "source": [
    "print(\"Mean Absolute Error: \", metrics.mean_absolute_error(y_test, y_pred))\n",
    "print(\"Mean Square Error: \", metrics.mean_squared_error(y_test, y_pred))\n",
    "print(\"Root Mean Square Error: \", np.sqrt(metrics.mean_squared_error(y_test, y_pred)))"
   ]
  },
  {
   "cell_type": "code",
   "execution_count": 95,
   "id": "b6f2651d",
   "metadata": {
    "scrolled": true
   },
   "outputs": [
    {
     "data": {
      "image/png": "[encoded data removed]",
      "text/plain": [
       "<Figure size 432x288 with 1 Axes>"
      ]
     },
     "metadata": {
      "needs_background": "light"
     },
     "output_type": "display_data"
    }
   ],
   "source": [
    "x1, y1 = [0, 2000], [0, 2000]\n",
    "plt.plot(x1, y1, \"r-\")\n",
    "plt.scatter(y_test,y_pred)\n",
    "plt.xlim(0, 2000)\n",
    "plt.ylim(0, 2000)\n",
    "plt.show()"
   ]
  }
 ],
 "metadata": {
  "kernelspec": {
   "display_name": "Python 3",
   "language": "python",
   "name": "python3"
  },
  "language_info": {
   "codemirror_mode": {
    "name": "ipython",
    "version": 3
   },
   "file_extension": ".py",
   "mimetype": "text/x-python",
   "name": "python",
   "nbconvert_exporter": "python",
   "pygments_lexer": "ipython3",
   "version": "3.9.1"
  }
 },
 "nbformat": 4,
 "nbformat_minor": 5
}
